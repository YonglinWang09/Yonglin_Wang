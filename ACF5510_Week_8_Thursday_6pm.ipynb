{
  "nbformat": 4,
  "nbformat_minor": 0,
  "metadata": {
    "colab": {
      "name": "ACF5510 Week 8 Thursday 6pm.ipynb",
      "provenance": [],
      "collapsed_sections": [],
      "authorship_tag": "ABX9TyN+BZtlzrxySj5BXMDLUpMr",
      "include_colab_link": true
    },
    "kernelspec": {
      "name": "python3",
      "display_name": "Python 3"
    },
    "language_info": {
      "name": "python"
    }
  },
  "cells": [
    {
      "cell_type": "markdown",
      "metadata": {
        "id": "view-in-github",
        "colab_type": "text"
      },
      "source": [
        "<a href=\"https://colab.research.google.com/github/YonglinWang09/Yonglin_Wang/blob/main/ACF5510_Week_8_Thursday_6pm.ipynb\" target=\"_parent\"><img src=\"https://colab.research.google.com/assets/colab-badge.svg\" alt=\"Open In Colab\"/></a>"
      ]
    },
    {
      "cell_type": "code",
      "metadata": {
        "colab": {
          "base_uri": "https://localhost:8080/"
        },
        "id": "WA5hiFNt-UQW",
        "outputId": "49935836-8249-49bd-9fe4-ec49ecc7d8c8"
      },
      "source": [
        "print(\"Hello World. We are from ACF5510\")"
      ],
      "execution_count": null,
      "outputs": [
        {
          "output_type": "stream",
          "name": "stdout",
          "text": [
            "Hello World. We are from ACF5510\n"
          ]
        }
      ]
    },
    {
      "cell_type": "code",
      "metadata": {
        "colab": {
          "base_uri": "https://localhost:8080/"
        },
        "id": "vTpX8SU--dz3",
        "outputId": "6ac7ffba-7ca2-43e0-c4ea-4e4cdae9247f"
      },
      "source": [
        "name = \"Cameron Truong\"\n",
        "print(name)"
      ],
      "execution_count": null,
      "outputs": [
        {
          "output_type": "stream",
          "name": "stdout",
          "text": [
            "Cameron Truong\n"
          ]
        }
      ]
    },
    {
      "cell_type": "code",
      "metadata": {
        "colab": {
          "base_uri": "https://localhost:8080/"
        },
        "id": "t9UmadDD-gCJ",
        "outputId": "e987a46b-2bf5-49d0-e89b-393ad21f9820"
      },
      "source": [
        "name = input(\"What is your name? \")\n",
        "print(len(name))"
      ],
      "execution_count": null,
      "outputs": [
        {
          "output_type": "stream",
          "name": "stdout",
          "text": [
            "What is your name? Cameron Truong\n",
            "14\n"
          ]
        }
      ]
    },
    {
      "cell_type": "code",
      "metadata": {
        "colab": {
          "base_uri": "https://localhost:8080/"
        },
        "id": "QjN4gOFF_C-u",
        "outputId": "b2e55b20-d9ba-4607-a567-ec8f0c8c5257"
      },
      "source": [
        "welcome_message = \"My name is \"+name\n",
        "print(welcome_message)"
      ],
      "execution_count": null,
      "outputs": [
        {
          "output_type": "stream",
          "name": "stdout",
          "text": [
            "My name is Cameron Truong\n"
          ]
        }
      ]
    },
    {
      "cell_type": "code",
      "metadata": {
        "colab": {
          "base_uri": "https://localhost:8080/"
        },
        "id": "jl198PWj_JDB",
        "outputId": "cf247d98-e53f-4c52-8f09-4c1149dbc34d"
      },
      "source": [
        "print(\"Welcome to Group Name Generator\")\n",
        "city = input(\"What is the name of the city where you grew up?\\n\")\n",
        "pet = input(\"What is your pet's name?\\n\")\n",
        "print(\"Your group name can be \" + city+ \" \" +pet)"
      ],
      "execution_count": null,
      "outputs": [
        {
          "output_type": "stream",
          "name": "stdout",
          "text": [
            "Welcome to Group Name Generator\n",
            "What is the name of the city where you grew up?\n",
            "Melbourne\n",
            "What is your pet's name?\n",
            "Russell\n",
            "Your group name can be Melbourne Russell\n"
          ]
        }
      ]
    },
    {
      "cell_type": "code",
      "metadata": {
        "colab": {
          "base_uri": "https://localhost:8080/"
        },
        "id": "0xXxpdaa_LT1",
        "outputId": "0b168f96-7aba-4f41-aa99-11d42a8c2a14"
      },
      "source": [
        "name = \"Cameron Truong is the chief examiner in ACF5510 semester 2 2021\"\n",
        "print(len(name))\n",
        "print(name[0])\n",
        "print(name[6])"
      ],
      "execution_count": null,
      "outputs": [
        {
          "output_type": "stream",
          "name": "stdout",
          "text": [
            "63\n",
            "C\n",
            "n\n"
          ]
        }
      ]
    },
    {
      "cell_type": "code",
      "metadata": {
        "colab": {
          "base_uri": "https://localhost:8080/"
        },
        "id": "5BbJrlAr_SZv",
        "outputId": "25b32f64-2d6d-4c5a-ce1d-51a24e58d37c"
      },
      "source": [
        "print(name.index(\"C\"))\n",
        "print(name.index(\"ron\"))"
      ],
      "execution_count": null,
      "outputs": [
        {
          "output_type": "stream",
          "name": "stdout",
          "text": [
            "0\n",
            "4\n"
          ]
        }
      ]
    },
    {
      "cell_type": "code",
      "metadata": {
        "colab": {
          "base_uri": "https://localhost:8080/"
        },
        "id": "9ppeNXVD_UbP",
        "outputId": "0284e382-7c81-4928-cdd9-a408216b3109"
      },
      "source": [
        "print(name.split(\" \"))"
      ],
      "execution_count": null,
      "outputs": [
        {
          "output_type": "stream",
          "name": "stdout",
          "text": [
            "['Cameron', 'Truong', 'is', 'the', 'chief', 'examiner', 'in', 'ACF5510', 'semester', '2', '2021']\n"
          ]
        }
      ]
    },
    {
      "cell_type": "code",
      "metadata": {
        "colab": {
          "base_uri": "https://localhost:8080/"
        },
        "id": "9dm5jjsyAEqk",
        "outputId": "1821dd97-2d91-4369-ad3d-24303e6cb873"
      },
      "source": [
        "name = name.replace(\"Cameron\",\"Cam\")\n",
        "print(name)"
      ],
      "execution_count": null,
      "outputs": [
        {
          "output_type": "stream",
          "name": "stdout",
          "text": [
            "Cam Truong is the chief examiner in ACF5510 semester 2 2021\n"
          ]
        }
      ]
    },
    {
      "cell_type": "code",
      "metadata": {
        "colab": {
          "base_uri": "https://localhost:8080/"
        },
        "id": "AIl8n3BIAGvM",
        "outputId": "11caa5b4-49e5-41ca-9150-9cb0939cbb02"
      },
      "source": [
        "name = \"Cameron Truong is the chief examiner \"\n",
        "print(name[:3])\n",
        "print(name[8:])\n",
        "print(name[2:7])\n"
      ],
      "execution_count": null,
      "outputs": [
        {
          "output_type": "stream",
          "name": "stdout",
          "text": [
            "Cam\n",
            "Truong is the chief examiner \n",
            "meron\n"
          ]
        }
      ]
    },
    {
      "cell_type": "code",
      "metadata": {
        "colab": {
          "base_uri": "https://localhost:8080/"
        },
        "id": "tCfkq233AIo1",
        "outputId": "5b6f20e4-7ee0-470d-d2e5-17c5540288b4"
      },
      "source": [
        "name=name.upper()\n",
        "print(name)"
      ],
      "execution_count": null,
      "outputs": [
        {
          "output_type": "stream",
          "name": "stdout",
          "text": [
            "CAMERON TRUONG IS THE CHIEF EXAMINER \n"
          ]
        }
      ]
    },
    {
      "cell_type": "code",
      "metadata": {
        "colab": {
          "base_uri": "https://localhost:8080/"
        },
        "id": "RPCBil7XAKvW",
        "outputId": "83b3d787-b042-499c-8bd9-c16ab39ca4c9"
      },
      "source": [
        "name = name.lower()\n",
        "print(name)\n"
      ],
      "execution_count": null,
      "outputs": [
        {
          "output_type": "stream",
          "name": "stdout",
          "text": [
            "cameron truong is the chief examiner \n"
          ]
        }
      ]
    },
    {
      "cell_type": "code",
      "metadata": {
        "colab": {
          "base_uri": "https://localhost:8080/"
        },
        "id": "cLaGNKn8FPEp",
        "outputId": "896cccca-d484-4cb0-d4fd-2603545e84ee"
      },
      "source": [
        "name = name.title()\n",
        "print(name)"
      ],
      "execution_count": null,
      "outputs": [
        {
          "output_type": "stream",
          "name": "stdout",
          "text": [
            "Cameron Truong Is The Chief Examiner \n"
          ]
        }
      ]
    },
    {
      "cell_type": "code",
      "metadata": {
        "colab": {
          "base_uri": "https://localhost:8080/"
        },
        "id": "1jKvD-8zFRj_",
        "outputId": "b94450fe-b02c-4c7f-b07d-aa4a0114ee0d"
      },
      "source": [
        "name = \"Cameron Cameron cam Cam Truong teaches Python in colab\"\n",
        "print(name.count(\"Cameron\"))"
      ],
      "execution_count": null,
      "outputs": [
        {
          "output_type": "stream",
          "name": "stdout",
          "text": [
            "2\n"
          ]
        }
      ]
    },
    {
      "cell_type": "code",
      "metadata": {
        "colab": {
          "base_uri": "https://localhost:8080/"
        },
        "id": "ASEc7RtjFTsx",
        "outputId": "533d4756-159a-4610-f0eb-0ebb67a2f6d5"
      },
      "source": [
        "two_digit_number = input(\"Type a two digit number: \")\n",
        "first_digit=int(two_digit_number[0])\n",
        "second_digit=int(two_digit_number[1])\n",
        "sum=first_digit+second_digit\n",
        "\n",
        "print(sum)\n",
        "# type(two_digit_number)\n",
        "# print(two_digit_number)"
      ],
      "execution_count": null,
      "outputs": [
        {
          "output_type": "stream",
          "name": "stdout",
          "text": [
            "Type a two digit number: 54\n",
            "9\n"
          ]
        }
      ]
    },
    {
      "cell_type": "code",
      "metadata": {
        "colab": {
          "base_uri": "https://localhost:8080/"
        },
        "id": "8yZg_TM6FXUN",
        "outputId": "15eebab3-ff64-4e3d-efa2-b9bdd859a35f"
      },
      "source": [
        "pi = 3.00\n",
        "type(pi)"
      ],
      "execution_count": null,
      "outputs": [
        {
          "output_type": "execute_result",
          "data": {
            "text/plain": [
              "float"
            ]
          },
          "metadata": {},
          "execution_count": 16
        }
      ]
    },
    {
      "cell_type": "code",
      "metadata": {
        "colab": {
          "base_uri": "https://localhost:8080/"
        },
        "id": "6Zp3jp_ZFbtf",
        "outputId": "d48db820-881a-429a-a757-5a5a6a306e7b"
      },
      "source": [
        "height = float(input(\"enter your height in m: \"))\n",
        "weight = int(input(\"enter your weight in kg: \"))\n",
        "bmi=int(weight/(height*height))\n",
        "print(bmi)"
      ],
      "execution_count": null,
      "outputs": [
        {
          "output_type": "stream",
          "name": "stdout",
          "text": [
            "enter your height in m: 1.63\n",
            "enter your weight in kg: 44\n",
            "16\n"
          ]
        }
      ]
    },
    {
      "cell_type": "code",
      "metadata": {
        "colab": {
          "base_uri": "https://localhost:8080/"
        },
        "id": "JVeTLt-vFe6h",
        "outputId": "bd341e1b-18ba-4478-b92f-997dee96d607"
      },
      "source": [
        "age = int(input(\"what is your current age?\"))\n",
        "x = 32805 -age*365\n",
        "y = 4680 -age*52\n",
        "z = 1080 -age*12\n",
        "\n",
        "print(f\"You have {x} days,{y} weeks, and{z} months left.\")"
      ],
      "execution_count": null,
      "outputs": [
        {
          "output_type": "stream",
          "name": "stdout",
          "text": [
            "what is your current age?24\n",
            "You have 24045 days,3432 weeks, and792 months left.\n"
          ]
        }
      ]
    },
    {
      "cell_type": "code",
      "metadata": {
        "colab": {
          "base_uri": "https://localhost:8080/"
        },
        "id": "9uoUm1lIFjg6",
        "outputId": "9bdc537c-ac0b-42fa-f0b5-d85778cb893b"
      },
      "source": [
        "student_age = int(input(\"what's sthdents' age?\"))\n",
        "lecturer_age = int(input(\"what's lecturer's age?\"))\n",
        "\n",
        "if student_age<lecturer_age:\n",
        "   print(\"students are so young\")\n",
        "   print(\"It's wonderful to be young\")\n",
        "elif  student_age>lecturer_age:\n",
        "   print(f\"The sum of the ages is {student_age+lecturer_age}\")  \n",
        "elif  student_age>lecturer_age and student_age==50:\n",
        "   print(\"Mid life crisis is coming\") \n",
        "\n",
        "else:\n",
        "  print(\"Students are so mature\")\n",
        "  print(\"Students must be corporate managers\")"
      ],
      "execution_count": null,
      "outputs": [
        {
          "output_type": "stream",
          "name": "stdout",
          "text": [
            "what's sthdents' age?51\n",
            "what's lecturer's age?42\n",
            "The sum of the ages is 93\n"
          ]
        }
      ]
    },
    {
      "cell_type": "markdown",
      "metadata": {
        "id": "vkBP0DXgFsjf"
      },
      "source": [
        "Condition statement exercise BMI 2.0 if BMI< 18.5, underweight of 18.5<=BMI, normal weight if 25<=BMI< 30, overweight if 30<=BMI< 35, obese if BMI>=35, clinicaly obese"
      ]
    },
    {
      "cell_type": "code",
      "metadata": {
        "colab": {
          "base_uri": "https://localhost:8080/"
        },
        "id": "2oh3RCvrFoOl",
        "outputId": "ab673284-b42f-4dd4-8cd1-c533fe23ebe1"
      },
      "source": [
        "height = float(input(\"enter your height in m: \"))\n",
        "weight = float(input(\"enter your weight in kg: \"))\n",
        "\n",
        "bmi= round(weight/(height**2),2)\n",
        "if bmi<18.5:\n",
        "   print(f\"Your bmi is {bmi}, you are underweight\")\n",
        "elif  bmi<25:\n",
        "   print(f\"Your bmi is {bmi}, you are normal weight\")\n",
        "elif  bmi<30:\n",
        "   print(f\"Your bmi is {bmi}, you are overweight\")\n",
        "elif  bmi<35:\n",
        "   print(f\"Your bmi is {bmi}, you are obese\")\n",
        "else:\n",
        "   print(f\"Your bmi is {bmi}, you are clinically obese\")"
      ],
      "execution_count": null,
      "outputs": [
        {
          "output_type": "stream",
          "name": "stdout",
          "text": [
            "enter your height in m: 1.76\n",
            "enter your weight in kg: 120\n",
            "Your bmi is 38.74, you are clinically obese\n"
          ]
        }
      ]
    },
    {
      "cell_type": "markdown",
      "metadata": {
        "id": "uZKs04MrIbJ3"
      },
      "source": [
        "Low Calulator"
      ]
    },
    {
      "cell_type": "code",
      "metadata": {
        "colab": {
          "base_uri": "https://localhost:8080/"
        },
        "id": "7Kuw6G6dIg_s",
        "outputId": "08148e92-020b-48f0-8b63-fcb44e64ef03"
      },
      "source": [
        "print(\"welcome to the Love Calculator\")\n",
        "name1 = input(\"What is your name? \\n\")\n",
        "name2 = input(\"What is your crush' name> \\n\")\n",
        "name1 = name1.lower()\n",
        "name2 = name2.lower()\n",
        "t = name1.count('t')+name2.count('t')\n",
        "r = name1.count('r')+name2.count('r')\n",
        "u = name1.count('u')+name2.count('u')\n",
        "e = name1.count('e')+name2.count('e')\n",
        "\n",
        "l = name1.count('l')+name2.count('l')\n",
        "o = name1.count('o')+name2.count('o')\n",
        "v = name1.count('v')+name2.count('v')\n",
        "e = name1.count('e')+name2.count('e')\n",
        "\n",
        "number1 = t+r+u+e\n",
        "number2 = l+o+v+e\n",
        "\n",
        "score = str(number1)+str(number2)\n",
        "score=int(score)\n",
        "\n",
        "if score<10 or score>90:\n",
        "   print(f\"Your score is {score}, you go together like coke and mentos\")\n",
        "elif score>40 and score<50:\n",
        "   print(f\"Your score is {score}, you are alright together\")\n",
        "else:\n",
        "   print(f\"Your score is {score}.\")\n",
        "\n",
        "#print(score)"
      ],
      "execution_count": null,
      "outputs": [
        {
          "output_type": "stream",
          "name": "stdout",
          "text": [
            "welcome to the Love Calculator\n",
            "What is your name? \n",
            "Yonglin Wang\n",
            "What is your crush' name> \n",
            "Yixing Zhang\n",
            "Your score is 2, you go together like coke and mentos\n"
          ]
        }
      ]
    },
    {
      "cell_type": "code",
      "metadata": {
        "id": "zgF-pRqiMGre"
      },
      "source": [
        ""
      ],
      "execution_count": null,
      "outputs": []
    },
    {
      "cell_type": "markdown",
      "metadata": {
        "id": "DNhobzT_IwBd"
      },
      "source": [
        "ture love"
      ]
    }
  ]
}